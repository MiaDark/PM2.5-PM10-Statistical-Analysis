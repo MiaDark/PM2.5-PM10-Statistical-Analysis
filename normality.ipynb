{
 "cells": [
  {
   "cell_type": "code",
   "execution_count": 42,
   "id": "1f902489-6fd3-41d5-9bfd-6204b120bfe6",
   "metadata": {
    "tags": []
   },
   "outputs": [],
   "source": [
    "import pandas as pd\n",
    "from scipy import stats\n",
    "import matplotlib.pyplot as plt\n",
    "from scipy.stats import shapiro\n",
    "import seaborn as sns"
   ]
  },
  {
   "cell_type": "code",
   "execution_count": 2,
   "id": "b429d92a-dbe0-4aac-ac8d-94432d76a19b",
   "metadata": {
    "tags": []
   },
   "outputs": [],
   "source": [
    "# Load datasets\n",
    "df1 = pd.read_csv('sensors_category/n_prime_pm_data.csv')\n",
    "df2 = pd.read_csv('sensors_category/n1_pm_data.csv')\n",
    "df3 = pd.read_csv('sensors_category/n2_pm_data.csv')\n",
    "df4 = pd.read_csv('sensors_category/n3_pm_data.csv')"
   ]
  },
  {
   "cell_type": "code",
   "execution_count": 3,
   "id": "7fd35d6d-9bac-4286-a07e-f80c371a0fe8",
   "metadata": {},
   "outputs": [],
   "source": [
    "df2 = df2.iloc[:-1]\n",
    "df3 = df3.iloc[:-1]\n",
    "df4 = df4.iloc[:-1]"
   ]
  },
  {
   "cell_type": "code",
   "execution_count": 4,
   "id": "c9ac74ca-6bc1-4d9f-8c58-24538825416a",
   "metadata": {
    "tags": []
   },
   "outputs": [],
   "source": [
    "df1 = df1.dropna(subset=['pm25', 'pm10'])\n",
    "df2 = df2.dropna(subset=['pm25', 'pm10'])\n",
    "df3 = df3.dropna(subset=['pm25', 'pm10'])\n",
    "df4 = df4.dropna(subset=['pm25', 'pm10'])"
   ]
  },
  {
   "cell_type": "code",
   "execution_count": 5,
   "id": "3ea298df-08f5-4f8c-b01f-d13870e10d6b",
   "metadata": {},
   "outputs": [
    {
     "data": {
      "text/html": [
       "<div>\n",
       "<style scoped>\n",
       "    .dataframe tbody tr th:only-of-type {\n",
       "        vertical-align: middle;\n",
       "    }\n",
       "\n",
       "    .dataframe tbody tr th {\n",
       "        vertical-align: top;\n",
       "    }\n",
       "\n",
       "    .dataframe thead th {\n",
       "        text-align: right;\n",
       "    }\n",
       "</style>\n",
       "<table border=\"1\" class=\"dataframe\">\n",
       "  <thead>\n",
       "    <tr style=\"text-align: right;\">\n",
       "      <th></th>\n",
       "      <th>Unnamed: 0</th>\n",
       "      <th>UTC</th>\n",
       "      <th>day</th>\n",
       "      <th>month</th>\n",
       "      <th>hour</th>\n",
       "      <th>maxtempC</th>\n",
       "      <th>mintempC</th>\n",
       "      <th>DewPointC</th>\n",
       "      <th>WindGustKmph</th>\n",
       "      <th>cloudcover</th>\n",
       "      <th>humidity</th>\n",
       "      <th>pressure</th>\n",
       "      <th>tempC</th>\n",
       "      <th>precipMM</th>\n",
       "      <th>winddirDegree</th>\n",
       "      <th>windspeedKmph</th>\n",
       "      <th>pm25</th>\n",
       "      <th>pm10</th>\n",
       "      <th>frequency_category</th>\n",
       "    </tr>\n",
       "  </thead>\n",
       "  <tbody>\n",
       "    <tr>\n",
       "      <th>154</th>\n",
       "      <td>154</td>\n",
       "      <td>2025-02-07 10:00:00</td>\n",
       "      <td>7</td>\n",
       "      <td>2</td>\n",
       "      <td>10</td>\n",
       "      <td>7.8</td>\n",
       "      <td>-1.6</td>\n",
       "      <td>-2.1</td>\n",
       "      <td>4.1</td>\n",
       "      <td>0.0</td>\n",
       "      <td>58.0</td>\n",
       "      <td>1036.4</td>\n",
       "      <td>5.4</td>\n",
       "      <td>0.0</td>\n",
       "      <td>105.0</td>\n",
       "      <td>4.1</td>\n",
       "      <td>0.0</td>\n",
       "      <td>0.0</td>\n",
       "      <td>high</td>\n",
       "    </tr>\n",
       "    <tr>\n",
       "      <th>442</th>\n",
       "      <td>442</td>\n",
       "      <td>2025-02-19 10:00:00</td>\n",
       "      <td>19</td>\n",
       "      <td>2</td>\n",
       "      <td>10</td>\n",
       "      <td>3.7</td>\n",
       "      <td>-4.3</td>\n",
       "      <td>-8.4</td>\n",
       "      <td>5.2</td>\n",
       "      <td>42.0</td>\n",
       "      <td>45.0</td>\n",
       "      <td>1032.1</td>\n",
       "      <td>2.5</td>\n",
       "      <td>0.0</td>\n",
       "      <td>2.0</td>\n",
       "      <td>5.2</td>\n",
       "      <td>0.0</td>\n",
       "      <td>0.0</td>\n",
       "      <td>high</td>\n",
       "    </tr>\n",
       "    <tr>\n",
       "      <th>633</th>\n",
       "      <td>633</td>\n",
       "      <td>2025-02-27 09:00:00</td>\n",
       "      <td>27</td>\n",
       "      <td>2</td>\n",
       "      <td>9</td>\n",
       "      <td>12.1</td>\n",
       "      <td>6.4</td>\n",
       "      <td>6.8</td>\n",
       "      <td>6.8</td>\n",
       "      <td>99.0</td>\n",
       "      <td>88.0</td>\n",
       "      <td>1020.5</td>\n",
       "      <td>8.6</td>\n",
       "      <td>0.0</td>\n",
       "      <td>27.0</td>\n",
       "      <td>6.8</td>\n",
       "      <td>0.0</td>\n",
       "      <td>0.0</td>\n",
       "      <td>high</td>\n",
       "    </tr>\n",
       "    <tr>\n",
       "      <th>634</th>\n",
       "      <td>634</td>\n",
       "      <td>2025-02-27 10:00:00</td>\n",
       "      <td>27</td>\n",
       "      <td>2</td>\n",
       "      <td>10</td>\n",
       "      <td>12.1</td>\n",
       "      <td>6.4</td>\n",
       "      <td>6.5</td>\n",
       "      <td>7.8</td>\n",
       "      <td>100.0</td>\n",
       "      <td>84.0</td>\n",
       "      <td>1020.0</td>\n",
       "      <td>9.1</td>\n",
       "      <td>0.0</td>\n",
       "      <td>7.0</td>\n",
       "      <td>7.8</td>\n",
       "      <td>0.0</td>\n",
       "      <td>0.0</td>\n",
       "      <td>high</td>\n",
       "    </tr>\n",
       "    <tr>\n",
       "      <th>635</th>\n",
       "      <td>635</td>\n",
       "      <td>2025-02-27 11:00:00</td>\n",
       "      <td>27</td>\n",
       "      <td>2</td>\n",
       "      <td>11</td>\n",
       "      <td>12.1</td>\n",
       "      <td>6.4</td>\n",
       "      <td>6.8</td>\n",
       "      <td>8.1</td>\n",
       "      <td>100.0</td>\n",
       "      <td>79.0</td>\n",
       "      <td>1019.1</td>\n",
       "      <td>10.2</td>\n",
       "      <td>0.0</td>\n",
       "      <td>348.0</td>\n",
       "      <td>8.1</td>\n",
       "      <td>0.0</td>\n",
       "      <td>0.0</td>\n",
       "      <td>high</td>\n",
       "    </tr>\n",
       "    <tr>\n",
       "      <th>...</th>\n",
       "      <td>...</td>\n",
       "      <td>...</td>\n",
       "      <td>...</td>\n",
       "      <td>...</td>\n",
       "      <td>...</td>\n",
       "      <td>...</td>\n",
       "      <td>...</td>\n",
       "      <td>...</td>\n",
       "      <td>...</td>\n",
       "      <td>...</td>\n",
       "      <td>...</td>\n",
       "      <td>...</td>\n",
       "      <td>...</td>\n",
       "      <td>...</td>\n",
       "      <td>...</td>\n",
       "      <td>...</td>\n",
       "      <td>...</td>\n",
       "      <td>...</td>\n",
       "      <td>...</td>\n",
       "    </tr>\n",
       "    <tr>\n",
       "      <th>1589</th>\n",
       "      <td>1589</td>\n",
       "      <td>2025-04-08 05:00:00</td>\n",
       "      <td>8</td>\n",
       "      <td>4</td>\n",
       "      <td>5</td>\n",
       "      <td>NaN</td>\n",
       "      <td>NaN</td>\n",
       "      <td>NaN</td>\n",
       "      <td>NaN</td>\n",
       "      <td>NaN</td>\n",
       "      <td>NaN</td>\n",
       "      <td>NaN</td>\n",
       "      <td>NaN</td>\n",
       "      <td>NaN</td>\n",
       "      <td>NaN</td>\n",
       "      <td>NaN</td>\n",
       "      <td>4.1</td>\n",
       "      <td>5.2</td>\n",
       "      <td>none</td>\n",
       "    </tr>\n",
       "    <tr>\n",
       "      <th>1590</th>\n",
       "      <td>1590</td>\n",
       "      <td>2025-04-08 06:00:00</td>\n",
       "      <td>8</td>\n",
       "      <td>4</td>\n",
       "      <td>6</td>\n",
       "      <td>NaN</td>\n",
       "      <td>NaN</td>\n",
       "      <td>NaN</td>\n",
       "      <td>NaN</td>\n",
       "      <td>NaN</td>\n",
       "      <td>NaN</td>\n",
       "      <td>NaN</td>\n",
       "      <td>NaN</td>\n",
       "      <td>NaN</td>\n",
       "      <td>NaN</td>\n",
       "      <td>NaN</td>\n",
       "      <td>2.7</td>\n",
       "      <td>3.0</td>\n",
       "      <td>low</td>\n",
       "    </tr>\n",
       "    <tr>\n",
       "      <th>1591</th>\n",
       "      <td>1591</td>\n",
       "      <td>2025-04-08 07:00:00</td>\n",
       "      <td>8</td>\n",
       "      <td>4</td>\n",
       "      <td>7</td>\n",
       "      <td>NaN</td>\n",
       "      <td>NaN</td>\n",
       "      <td>NaN</td>\n",
       "      <td>NaN</td>\n",
       "      <td>NaN</td>\n",
       "      <td>NaN</td>\n",
       "      <td>NaN</td>\n",
       "      <td>NaN</td>\n",
       "      <td>NaN</td>\n",
       "      <td>NaN</td>\n",
       "      <td>NaN</td>\n",
       "      <td>2.7</td>\n",
       "      <td>4.2</td>\n",
       "      <td>low</td>\n",
       "    </tr>\n",
       "    <tr>\n",
       "      <th>1592</th>\n",
       "      <td>1592</td>\n",
       "      <td>2025-04-08 08:00:00</td>\n",
       "      <td>8</td>\n",
       "      <td>4</td>\n",
       "      <td>8</td>\n",
       "      <td>NaN</td>\n",
       "      <td>NaN</td>\n",
       "      <td>NaN</td>\n",
       "      <td>NaN</td>\n",
       "      <td>NaN</td>\n",
       "      <td>NaN</td>\n",
       "      <td>NaN</td>\n",
       "      <td>NaN</td>\n",
       "      <td>NaN</td>\n",
       "      <td>NaN</td>\n",
       "      <td>NaN</td>\n",
       "      <td>2.1</td>\n",
       "      <td>2.8</td>\n",
       "      <td>high</td>\n",
       "    </tr>\n",
       "    <tr>\n",
       "      <th>1593</th>\n",
       "      <td>1593</td>\n",
       "      <td>2025-04-08 09:00:00</td>\n",
       "      <td>8</td>\n",
       "      <td>4</td>\n",
       "      <td>9</td>\n",
       "      <td>NaN</td>\n",
       "      <td>NaN</td>\n",
       "      <td>NaN</td>\n",
       "      <td>NaN</td>\n",
       "      <td>NaN</td>\n",
       "      <td>NaN</td>\n",
       "      <td>NaN</td>\n",
       "      <td>NaN</td>\n",
       "      <td>NaN</td>\n",
       "      <td>NaN</td>\n",
       "      <td>NaN</td>\n",
       "      <td>1.9</td>\n",
       "      <td>2.1</td>\n",
       "      <td>high</td>\n",
       "    </tr>\n",
       "  </tbody>\n",
       "</table>\n",
       "<p>877 rows × 19 columns</p>\n",
       "</div>"
      ],
      "text/plain": [
       "      Unnamed: 0                  UTC  day  month  hour  maxtempC  mintempC  \\\n",
       "154          154  2025-02-07 10:00:00    7      2    10       7.8      -1.6   \n",
       "442          442  2025-02-19 10:00:00   19      2    10       3.7      -4.3   \n",
       "633          633  2025-02-27 09:00:00   27      2     9      12.1       6.4   \n",
       "634          634  2025-02-27 10:00:00   27      2    10      12.1       6.4   \n",
       "635          635  2025-02-27 11:00:00   27      2    11      12.1       6.4   \n",
       "...          ...                  ...  ...    ...   ...       ...       ...   \n",
       "1589        1589  2025-04-08 05:00:00    8      4     5       NaN       NaN   \n",
       "1590        1590  2025-04-08 06:00:00    8      4     6       NaN       NaN   \n",
       "1591        1591  2025-04-08 07:00:00    8      4     7       NaN       NaN   \n",
       "1592        1592  2025-04-08 08:00:00    8      4     8       NaN       NaN   \n",
       "1593        1593  2025-04-08 09:00:00    8      4     9       NaN       NaN   \n",
       "\n",
       "      DewPointC  WindGustKmph  cloudcover  humidity  pressure  tempC  \\\n",
       "154        -2.1           4.1         0.0      58.0    1036.4    5.4   \n",
       "442        -8.4           5.2        42.0      45.0    1032.1    2.5   \n",
       "633         6.8           6.8        99.0      88.0    1020.5    8.6   \n",
       "634         6.5           7.8       100.0      84.0    1020.0    9.1   \n",
       "635         6.8           8.1       100.0      79.0    1019.1   10.2   \n",
       "...         ...           ...         ...       ...       ...    ...   \n",
       "1589        NaN           NaN         NaN       NaN       NaN    NaN   \n",
       "1590        NaN           NaN         NaN       NaN       NaN    NaN   \n",
       "1591        NaN           NaN         NaN       NaN       NaN    NaN   \n",
       "1592        NaN           NaN         NaN       NaN       NaN    NaN   \n",
       "1593        NaN           NaN         NaN       NaN       NaN    NaN   \n",
       "\n",
       "      precipMM  winddirDegree  windspeedKmph  pm25  pm10 frequency_category  \n",
       "154        0.0          105.0            4.1   0.0   0.0               high  \n",
       "442        0.0            2.0            5.2   0.0   0.0               high  \n",
       "633        0.0           27.0            6.8   0.0   0.0               high  \n",
       "634        0.0            7.0            7.8   0.0   0.0               high  \n",
       "635        0.0          348.0            8.1   0.0   0.0               high  \n",
       "...        ...            ...            ...   ...   ...                ...  \n",
       "1589       NaN            NaN            NaN   4.1   5.2               none  \n",
       "1590       NaN            NaN            NaN   2.7   3.0                low  \n",
       "1591       NaN            NaN            NaN   2.7   4.2                low  \n",
       "1592       NaN            NaN            NaN   2.1   2.8               high  \n",
       "1593       NaN            NaN            NaN   1.9   2.1               high  \n",
       "\n",
       "[877 rows x 19 columns]"
      ]
     },
     "execution_count": 5,
     "metadata": {},
     "output_type": "execute_result"
    }
   ],
   "source": [
    "df2"
   ]
  },
  {
   "cell_type": "code",
   "execution_count": 6,
   "id": "b57c7970-c095-40e8-905d-b7d4b6d0dbc0",
   "metadata": {
    "tags": []
   },
   "outputs": [
    {
     "data": {
      "text/plain": [
       "877"
      ]
     },
     "execution_count": 6,
     "metadata": {},
     "output_type": "execute_result"
    }
   ],
   "source": [
    "df2.shape[0]"
   ]
  },
  {
   "cell_type": "code",
   "execution_count": 7,
   "id": "211b5860-503c-4da5-8dbf-9155b8e52c4e",
   "metadata": {
    "tags": []
   },
   "outputs": [
    {
     "name": "stdout",
     "output_type": "stream",
     "text": [
      "df1: 465 rows\n",
      "df2: 465 rows\n",
      "df3: 465 rows\n",
      "df4: 465 rows\n"
     ]
    }
   ],
   "source": [
    "# Set 'column 0' as the index for each DataFrame\n",
    "df1.set_index('Unnamed: 0', inplace=True)\n",
    "df2.set_index('Unnamed: 0', inplace=True)\n",
    "df3.set_index('Unnamed: 0', inplace=True)\n",
    "df4.set_index('Unnamed: 0', inplace=True)\n",
    "\n",
    "# List of all DataFrames\n",
    "datasets = [df1, df2, df3, df4]\n",
    "\n",
    "# Step 1: Get all unique indexes from each DataFrame\n",
    "all_indexes = set()\n",
    "for df in datasets:\n",
    "    all_indexes.update(df.index)\n",
    "\n",
    "# Step 2: Check which indexes exist in all DataFrames\n",
    "common_indexes = []\n",
    "for idx in all_indexes:\n",
    "    exists_in_all = True\n",
    "    for df in datasets:\n",
    "        if idx not in df.index:\n",
    "            exists_in_all = False\n",
    "            break\n",
    "    if exists_in_all:\n",
    "        common_indexes.append(idx)\n",
    "\n",
    "# Step 3: Trim each DataFrame to keep only rows with common indexes\n",
    "for i, df in enumerate(datasets, 1):\n",
    "    # Keep only rows where the index is in common_indexes\n",
    "    mask = df.index.isin(common_indexes)\n",
    "    datasets[i-1] = df[mask].copy()\n",
    "\n",
    "# Update the original DataFrames\n",
    "df1, df2, df3, df4 = datasets\n",
    "\n",
    "# Step 4: Print the row counts to confirm\n",
    "print(f\"df1: {len(df1)} rows\")\n",
    "print(f\"df2: {len(df2)} rows\")\n",
    "print(f\"df3: {len(df3)} rows\")\n",
    "print(f\"df4: {len(df4)} rows\")"
   ]
  },
  {
   "cell_type": "code",
   "execution_count": 27,
   "id": "abcf75b6-4085-4a5d-9841-1c44cbfc4391",
   "metadata": {
    "tags": []
   },
   "outputs": [
    {
     "data": {
      "text/plain": [
       "array(['high', 'none', 'low'], dtype=object)"
      ]
     },
     "execution_count": 27,
     "metadata": {},
     "output_type": "execute_result"
    }
   ],
   "source": [
    "df3['frequency_category'].unique()"
   ]
  },
  {
   "cell_type": "code",
   "execution_count": 28,
   "id": "91de7044-2286-4aa7-8eb1-b60973bfd4bc",
   "metadata": {
    "tags": []
   },
   "outputs": [],
   "source": [
    "df1_low = df1[df1['frequency_category'] == 'low'].copy()\n",
    "df1_high = df1[df1['frequency_category'] == 'high'].copy()\n",
    "df1_none = df1[df1['frequency_category'] == 'none'].copy()"
   ]
  },
  {
   "cell_type": "code",
   "execution_count": 29,
   "id": "83ecdf02-2138-4d0f-8615-7f7c6addb32e",
   "metadata": {
    "tags": []
   },
   "outputs": [
    {
     "data": {
      "text/plain": [
       "array(['low'], dtype=object)"
      ]
     },
     "execution_count": 29,
     "metadata": {},
     "output_type": "execute_result"
    }
   ],
   "source": [
    "df1_low['frequency_category'].unique()"
   ]
  },
  {
   "cell_type": "code",
   "execution_count": 30,
   "id": "0d0df758-d00e-41c4-9fc5-56319c3f73f9",
   "metadata": {
    "tags": []
   },
   "outputs": [],
   "source": [
    "df2_low = df2[df2['frequency_category'] == 'low'].copy()\n",
    "df2_high = df2[df2['frequency_category'] == 'high'].copy()\n",
    "df2_none = df2[df2['frequency_category'] == 'none'].copy()"
   ]
  },
  {
   "cell_type": "code",
   "execution_count": 31,
   "id": "0c47028f-3dd2-4b0a-a602-d97d8c1e52c7",
   "metadata": {
    "tags": []
   },
   "outputs": [
    {
     "data": {
      "text/plain": [
       "array(['none'], dtype=object)"
      ]
     },
     "execution_count": 31,
     "metadata": {},
     "output_type": "execute_result"
    }
   ],
   "source": [
    "df2_none['frequency_category'].unique()"
   ]
  },
  {
   "cell_type": "code",
   "execution_count": 32,
   "id": "10a4b722-d593-4ec3-971c-a47aff635429",
   "metadata": {
    "tags": []
   },
   "outputs": [],
   "source": [
    "df3_low = df3[df3['frequency_category'] == 'low'].copy()\n",
    "df3_high = df3[df3['frequency_category'] == 'high'].copy()\n",
    "df3_none = df3[df3['frequency_category'] == 'none'].copy()"
   ]
  },
  {
   "cell_type": "code",
   "execution_count": 33,
   "id": "ee5bb4b3-208e-450c-a0ee-e70b932ed3c9",
   "metadata": {
    "tags": []
   },
   "outputs": [
    {
     "data": {
      "text/plain": [
       "array(['high'], dtype=object)"
      ]
     },
     "execution_count": 33,
     "metadata": {},
     "output_type": "execute_result"
    }
   ],
   "source": [
    "df3_high['frequency_category'].unique()"
   ]
  },
  {
   "cell_type": "code",
   "execution_count": 34,
   "id": "fd4a801a-2c0a-4ddb-a141-d5c3f407cf9a",
   "metadata": {
    "tags": []
   },
   "outputs": [],
   "source": [
    "df4_low = df4[df4['frequency_category'] == 'low'].copy()\n",
    "df4_high = df4[df4['frequency_category'] == 'high'].copy()\n",
    "df4_none = df4[df4['frequency_category'] == 'none'].copy()"
   ]
  },
  {
   "cell_type": "code",
   "execution_count": 35,
   "id": "2b58aaef-179e-45ad-aaff-2dd111e8a366",
   "metadata": {
    "tags": []
   },
   "outputs": [
    {
     "data": {
      "text/plain": [
       "array(['high'], dtype=object)"
      ]
     },
     "execution_count": 35,
     "metadata": {},
     "output_type": "execute_result"
    }
   ],
   "source": [
    "df4_high['frequency_category'].unique()"
   ]
  },
  {
   "cell_type": "code",
   "execution_count": 37,
   "id": "ed9906ce-d5e9-41ff-aef3-014306fb4822",
   "metadata": {
    "tags": []
   },
   "outputs": [
    {
     "name": "stdout",
     "output_type": "stream",
     "text": [
      "27 27 27 27\n"
     ]
    }
   ],
   "source": [
    "print(df4_low.shape[0],df3_low.shape[0],df2_low.shape[0],df1_low.shape[0])"
   ]
  },
  {
   "cell_type": "code",
   "execution_count": 38,
   "id": "d0bad97e-41d0-4387-9285-6bfb37c8196c",
   "metadata": {
    "tags": []
   },
   "outputs": [],
   "source": [
    "def check_normality(data, columns):\n",
    "    normality_results = {}\n",
    "    for col in columns:\n",
    "        stat, p = shapiro(data[col].dropna())\n",
    "        normality_results[col] = 'Normal' if p > 0.05 else 'Not Normal'\n",
    "    return normality_results"
   ]
  },
  {
   "cell_type": "code",
   "execution_count": 39,
   "id": "49143dda-a167-4b4f-95dd-9b7f02ef5257",
   "metadata": {
    "tags": []
   },
   "outputs": [],
   "source": [
    "check_norm = ['pm25','pm10']"
   ]
  },
  {
   "cell_type": "code",
   "execution_count": 40,
   "id": "ddaf2c8b-1265-4e84-bba3-56b9b19be545",
   "metadata": {
    "tags": []
   },
   "outputs": [],
   "source": [
    "datasets = df1_low, df1_high, df1_none, df2_low, df2_high, df2_none, df3_low, df3_high, df3_none, df4_low, df4_high, df4_none"
   ]
  },
  {
   "cell_type": "code",
   "execution_count": 44,
   "id": "3b2c29d9-c8fb-40f8-a446-d884ca16a19a",
   "metadata": {
    "tags": []
   },
   "outputs": [
    {
     "name": "stdout",
     "output_type": "stream",
     "text": [
      "{'pm25': 'Not Normal', 'pm10': 'Not Normal'}\n",
      "{'pm25': 'Not Normal', 'pm10': 'Not Normal'}\n",
      "{'pm25': 'Not Normal', 'pm10': 'Not Normal'}\n",
      "{'pm25': 'Not Normal', 'pm10': 'Not Normal'}\n",
      "{'pm25': 'Not Normal', 'pm10': 'Not Normal'}\n",
      "{'pm25': 'Not Normal', 'pm10': 'Not Normal'}\n",
      "{'pm25': 'Not Normal', 'pm10': 'Normal'}\n",
      "{'pm25': 'Not Normal', 'pm10': 'Not Normal'}\n",
      "{'pm25': 'Not Normal', 'pm10': 'Not Normal'}\n",
      "{'pm25': 'Not Normal', 'pm10': 'Not Normal'}\n",
      "{'pm25': 'Not Normal', 'pm10': 'Not Normal'}\n",
      "{'pm25': 'Not Normal', 'pm10': 'Not Normal'}\n"
     ]
    }
   ],
   "source": [
    "for d in datasets:\n",
    "    print(check_normality(d,check_norm))"
   ]
  },
  {
   "cell_type": "code",
   "execution_count": 45,
   "id": "b091e61c-5d22-4986-a386-a7153bb1728d",
   "metadata": {
    "tags": []
   },
   "outputs": [
    {
     "data": {
      "text/plain": [
       "{'pm25': 'Not Normal', 'pm10': 'Normal'}"
      ]
     },
     "execution_count": 45,
     "metadata": {},
     "output_type": "execute_result"
    }
   ],
   "source": [
    "check_normality(df3_low,check_norm)"
   ]
  },
  {
   "cell_type": "code",
   "execution_count": 46,
   "id": "af2b4889-2fbe-44a7-9d06-7b458b3ba17e",
   "metadata": {
    "tags": []
   },
   "outputs": [
    {
     "data": {
      "image/png": "[encoded data removed]",
      "text/plain": [
       "<Figure size 1000x400 with 2 Axes>"
      ]
     },
     "metadata": {},
     "output_type": "display_data"
    }
   ],
   "source": [
    "# Set up plot style\n",
    "sns.set(style=\"whitegrid\")\n",
    "\n",
    "# Plot PM2.5\n",
    "plt.figure(figsize=(10, 4))\n",
    "plt.subplot(1, 2, 1)\n",
    "sns.histplot(df3_low['pm25'].dropna(), bins=30, kde=True, color='skyblue')\n",
    "plt.title('PM2.5 Distribution')\n",
    "plt.xlabel('PM2.5 (μg/m³)')\n",
    "plt.ylabel('Frequency')\n",
    "\n",
    "# Plot PM10\n",
    "plt.subplot(1, 2, 2)\n",
    "sns.histplot(df3_low['pm10'].dropna(), bins=30, kde=True, color='salmon')\n",
    "plt.title('PM10 Distribution')\n",
    "plt.xlabel('PM10 (μg/m³)')\n",
    "plt.ylabel('Frequency')\n",
    "\n",
    "plt.tight_layout()\n",
    "plt.show()"
   ]
  },
  {
   "cell_type": "markdown",
   "id": "699cc8f2-6784-4197-b248-9f207ba87aa5",
   "metadata": {},
   "source": [
    "IAKO ZA PM10 DOBIVME DEKA IMA NORMALNA, SE GLEDA OD HISTOGRAMOT DEKA NE E TAKA, OVA MOZHE DA SE SLUCHILO ZARADI MALIOT BROJ NA PRIMEROCI, KAKO I PORADI TOA STO NEMAME DOVOLNO DOKAZI ZA DA JA PRIFATIME NORMALNATA RASPREDELBA"
   ]
  },
  {
   "cell_type": "code",
   "execution_count": 52,
   "id": "8f0e0134-9b74-4adb-abcc-8b8bd3a2f2d4",
   "metadata": {
    "tags": []
   },
   "outputs": [],
   "source": [
    "import itertools\n",
    "from scipy.stats import wilcoxon"
   ]
  },
  {
   "cell_type": "code",
   "execution_count": 55,
   "id": "5d0fb9c2-4c31-4d25-9155-536a5b2a72be",
   "metadata": {
    "tags": []
   },
   "outputs": [],
   "source": [
    "def check_diff(df1,df2):\n",
    "    stat, p = wilcoxon(df1['pm25'], df2['pm25'], alternative='two-sided')\n",
    "    print(f\"Test Statistic: {stat}, p-value: {p}\")\n",
    "    if p < 0.05:\n",
    "        print(\"Има статистички значајна разлика.\")\n",
    "    else:\n",
    "        print(\"Немаме доволно докази да одбиеме.\")\n",
    "    print()  # Empty line for readability"
   ]
  },
  {
   "cell_type": "code",
   "execution_count": 56,
   "id": "3efceddf-52c0-4a8a-8404-9078d7d37182",
   "metadata": {
    "tags": []
   },
   "outputs": [
    {
     "name": "stdout",
     "output_type": "stream",
     "text": [
      "Test Statistic: 14.0, p-value: 1.6391277313232422e-06\n",
      "Reject the null hypothesis: The distributions are likely different.\n",
      "\n"
     ]
    }
   ],
   "source": [
    "check_diff(df1_low, df3_low)"
   ]
  },
  {
   "cell_type": "code",
   "execution_count": 57,
   "id": "4b95eabe-9313-4b13-a468-9424f7def7d1",
   "metadata": {
    "tags": []
   },
   "outputs": [
    {
     "name": "stdout",
     "output_type": "stream",
     "text": [
      "Test Statistic: 99.0, p-value: 1.0719409752353979e-48\n",
      "Reject the null hypothesis: The distributions are likely different.\n",
      "\n"
     ]
    }
   ],
   "source": [
    "check_diff(df1_none, df3_none)"
   ]
  },
  {
   "cell_type": "code",
   "execution_count": 58,
   "id": "e231b5c2-021b-46ac-bacf-975342b35736",
   "metadata": {
    "tags": []
   },
   "outputs": [
    {
     "name": "stdout",
     "output_type": "stream",
     "text": [
      "Test Statistic: 3112.0, p-value: 2.714604096764408e-06\n",
      "Reject the null hypothesis: The distributions are likely different.\n",
      "\n"
     ]
    }
   ],
   "source": [
    "check_diff(df1_high, df3_high)"
   ]
  },
  {
   "cell_type": "code",
   "execution_count": 59,
   "id": "28dd0f72-c40f-44fb-9b67-84cb4f4a0e6f",
   "metadata": {
    "tags": []
   },
   "outputs": [
    {
     "name": "stdout",
     "output_type": "stream",
     "text": [
      "Test Statistic: 145.0, p-value: 1.725610643498493e-48\n",
      "Reject the null hypothesis: The distributions are likely different.\n",
      "\n"
     ]
    }
   ],
   "source": [
    "check_diff(df1_none, df4_none)"
   ]
  },
  {
   "cell_type": "code",
   "execution_count": 60,
   "id": "ae32db7e-6766-4e2f-8731-c17945cc64ed",
   "metadata": {
    "tags": []
   },
   "outputs": [
    {
     "name": "stdout",
     "output_type": "stream",
     "text": [
      "Test Statistic: 826.5, p-value: 1.8374237618535263e-19\n",
      "Reject the null hypothesis: The distributions are likely different.\n",
      "\n"
     ]
    }
   ],
   "source": [
    "check_diff(df1_high, df4_high)"
   ]
  },
  {
   "cell_type": "code",
   "execution_count": 61,
   "id": "3e544cdd-fc6d-4df5-972d-a3ca546ddd3f",
   "metadata": {
    "tags": []
   },
   "outputs": [
    {
     "name": "stdout",
     "output_type": "stream",
     "text": [
      "Test Statistic: 8.0, p-value: 3.725290298461914e-07\n",
      "Reject the null hypothesis: The distributions are likely different.\n",
      "\n"
     ]
    }
   ],
   "source": [
    "check_diff(df1_low, df4_low)"
   ]
  },
  {
   "cell_type": "code",
   "execution_count": 62,
   "id": "041389a0-5ba7-4c3b-b987-279ec10c7c94",
   "metadata": {
    "tags": []
   },
   "outputs": [
    {
     "name": "stdout",
     "output_type": "stream",
     "text": [
      "Test Statistic: 12679.5, p-value: 1.1224813812810958e-07\n",
      "Reject the null hypothesis: The distributions are likely different.\n",
      "\n"
     ]
    }
   ],
   "source": [
    "check_diff(df2_none, df3_none)"
   ]
  },
  {
   "cell_type": "code",
   "execution_count": 63,
   "id": "2efe1189-f960-4b82-9812-4061643ff009",
   "metadata": {
    "tags": []
   },
   "outputs": [
    {
     "name": "stdout",
     "output_type": "stream",
     "text": [
      "Test Statistic: 109.5, p-value: 0.05520309507846832\n",
      "Fail to reject the null hypothesis: The distributions are likely the same.\n",
      "\n"
     ]
    }
   ],
   "source": [
    "check_diff(df2_low, df3_low)"
   ]
  },
  {
   "cell_type": "code",
   "execution_count": 64,
   "id": "86b690f8-9da3-4688-8c75-653ad7f97086",
   "metadata": {
    "tags": []
   },
   "outputs": [
    {
     "name": "stdout",
     "output_type": "stream",
     "text": [
      "Test Statistic: 618.5, p-value: 1.1429540558723147e-20\n",
      "Reject the null hypothesis: The distributions are likely different.\n",
      "\n"
     ]
    }
   ],
   "source": [
    "check_diff(df2_high, df3_high)"
   ]
  },
  {
   "cell_type": "code",
   "execution_count": 65,
   "id": "23d24c2c-6b56-4bb8-af63-68681fadd4f7",
   "metadata": {
    "tags": []
   },
   "outputs": [
    {
     "name": "stdout",
     "output_type": "stream",
     "text": [
      "Test Statistic: 7217.5, p-value: 9.265443970640247e-21\n",
      "Reject the null hypothesis: The distributions are likely different.\n",
      "\n"
     ]
    }
   ],
   "source": [
    "check_diff(df2_none, df4_none)"
   ]
  },
  {
   "cell_type": "code",
   "execution_count": 66,
   "id": "07ba1e99-472e-4998-b54b-9bb5b40a0a85",
   "metadata": {
    "tags": []
   },
   "outputs": [
    {
     "name": "stdout",
     "output_type": "stream",
     "text": [
      "Test Statistic: 174.5, p-value: 0.7317177355289459\n",
      "Fail to reject the null hypothesis: The distributions are likely the same.\n",
      "\n"
     ]
    }
   ],
   "source": [
    "check_diff(df2_low, df4_low)"
   ]
  },
  {
   "cell_type": "code",
   "execution_count": 67,
   "id": "44ff2cbc-e294-4645-bfc1-b7a78cd6b784",
   "metadata": {
    "tags": []
   },
   "outputs": [
    {
     "name": "stdout",
     "output_type": "stream",
     "text": [
      "Test Statistic: 1793.0, p-value: 1.0691767360010702e-12\n",
      "Reject the null hypothesis: The distributions are likely different.\n",
      "\n"
     ]
    }
   ],
   "source": [
    "check_diff(df2_high, df4_high)"
   ]
  },
  {
   "cell_type": "code",
   "execution_count": null,
   "id": "736f5038-79c0-40ac-af05-1ba339df371a",
   "metadata": {},
   "outputs": [],
   "source": []
  }
 ],
 "metadata": {
  "kernelspec": {
   "display_name": "Python 3 (ipykernel)",
   "language": "python",
   "name": "python3"
  },
  "language_info": {
   "codemirror_mode": {
    "name": "ipython",
    "version": 3
   },
   "file_extension": ".py",
   "mimetype": "text/x-python",
   "name": "python",
   "nbconvert_exporter": "python",
   "pygments_lexer": "ipython3",
   "version": "3.11.5"
  }
 },
 "nbformat": 4,
 "nbformat_minor": 5
}
